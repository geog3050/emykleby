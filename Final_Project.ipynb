{
 "cells": [
  {
   "cell_type": "code",
   "execution_count": 1,
   "metadata": {},
   "outputs": [],
   "source": [
    "import arcpy\n",
    "\n",
    "import sys\n",
    "\n",
    "arcpy.env.overwriteOutput = True"
   ]
  },
  {
   "cell_type": "code",
   "execution_count": 2,
   "metadata": {},
   "outputs": [],
   "source": [
    "default_workspace = r\"C:\\Users\\emykl\\OneDrive\\Documents\\GEOG-5055\\Final Project\\Default.gdb\"\n",
    "\n",
    "# Check if input default_workspace is valid\n",
    "if arcpy.Exists(default_workspace): \n",
    "    arcpy.env.workspace = default_workspace # Set workspace to workspace\n",
    "    \n",
    "else: # Print statement if input workspace is invalid\n",
    "    print(f\"Workspace {default_workspace} does not exist.\")"
   ]
  },
  {
   "cell_type": "code",
   "execution_count": 3,
   "metadata": {},
   "outputs": [],
   "source": [
    "# Set input locations for required files\n",
    "in_places = r\"C:\\Users\\emykl\\OneDrive\\Documents\\GEOG-5055\\Final Project\\Default.gdb\\Iowa Places\"\n",
    "in_watershed = r\"C:\\Users\\emykl\\Downloads\\HUC8\\HUC8.shp\"\n",
    "iowa_border = r\"C:\\Users\\emykl\\OneDrive\\Documents\\GEOG-5540\\iowa_border\\iowa_border.shp\"\n",
    "iowa_ngs = r\"C:\\Users\\emykl\\OneDrive\\Documents\\GEOG-5055\\Final Project\\Default.gdb\\Iowa_NGS\"\n",
    "impaired_lakes =  r\"C:\\Users\\emykl\\OneDrive\\Documents\\GEOG-5055\\Final Project\\Default.gdb\\Impaired_Lakes\"\n",
    "impaired_streams = r\"C:\\Users\\emykl\\OneDrive\\Documents\\GEOG-5055\\Final Project\\Default.gdb\\Impaired_Streams\"\n",
    "\n",
    "# Create a list of all data sources that are combined to make a dataset for contaminated water\n",
    "contam_files = [iowa_ngs, impaired_lakes, impaired_streams]\n",
    "\n",
    "# Pre-name important ouput files\n",
    "# Contaiminated water layer\n",
    "contam_water = \"Contam_water\"\n",
    "# Output buffer layer\n",
    "buffer_merged = \"Buffer_Merged\""
   ]
  },
  {
   "cell_type": "code",
   "execution_count": null,
   "metadata": {},
   "outputs": [],
   "source": [
    "# Use select layer by attribute tool to select only those locations from NGS dataset that have Phosphorus\n",
    "# levels greater than or equal to 0.1 parts per million\n",
    "arcpy.management.SelectLayerByAttribute(iowa_ngs, \"NEW_SELECTION\", \"P_ICP40 >= 0.1\", None)\n",
    "\n",
    "# Use feature class to geodatabase tool to put the previously set contaminated files features into a new\n",
    "# geodatabase\n",
    "arcpy.conversion.FeatureClassToGeodatabase(contam_files, contam_water)\n",
    "\n",
    "# Set the workspace to this new geodatabase for use in the subsequent for loop\n",
    "arcpy.env.workspace = contam_water\n",
    "\n",
    "# list feature classes in this geodatabase\n",
    "# run for loop going through each feature class to create a 500 meter buffer around each feature class\n",
    "# and then also rename the feature class\n",
    "fcs = arcpy.ListFeatureClasses()\n",
    "for fc in fcs:\n",
    "    print(f\"working on{fc}\")\n",
    "\n",
    "    arcpy.analysis.Buffer(fc, f\"Buffer_{fc}\", \"500 Meters\", \"FULL\", \"ROUND\", \"NONE\", None, \"PLANAR\")\n",
    "\n",
    "# Merge these new buffer feature classes into a combined feature class\n",
    "arcpy.management.Merge(\"Buffer_Impaired_Streams;Buffer_Impaired_Lakes;Buffer_Iowa_NGS\", buffer_merged)"
   ]
  },
  {
   "cell_type": "code",
   "execution_count": null,
   "metadata": {},
   "outputs": [],
   "source": [
    "# Reset workspace to default to complete spatial processing steps\n",
    "arcpy.env.workspace = default_workspace\n",
    "\n",
    "# Use summarize within tool between buffer merged feature class and populations center data to create \n",
    "# new output along with statistics table that stores new calculated variable\n",
    "arcpy.analysis.SummarizeWithin(in_places, buffer_merged, \"Places_Buffer\", \"ONLY_INTERSECTING\",\n",
    "                               \"Shape_Area Sum\",\"ADD_SHAPE_SUM\", \"SQUAREKILOMETERS\",\n",
    "                               None, \"NO_MIN_MAJ\", \"NO_PERCENT\", None)\n",
    "\n",
    "# Use intersect tool bewteen buffer merged feature class and population center data to create new output \n",
    "arcpy.analysis.Intersect([buffer_merged, in_places], \"Places_Buffer_Int\", \"ALL\", None, \"INPUT\")\n",
    "\n",
    "# Use summarize within tool between buffer merged feature class and HUC8 watershed data to create \n",
    "# new output along with statistics table that stores new calculated variable\n",
    "arcpy.analysis.SummarizeWithin(in_watershed, buffer_merged, \"HUC8SW\", \"ONLY_INTERSECTING\", \"Shape_Area Sum\",\n",
    "                               \"ADD_SHAPE_SUM\", \"SQUAREKILOMETERS\", None, \"NO_MIN_MAJ\", \"NO_PERCENT\", None)\n",
    "\n",
    "# Use clip tool to cut off section of the HUC8 shapefile that fall outside of the Iowa border\n",
    "arcpy.analysis.Clip(\"HUC8SW\", iowa_border, \"HUC8SW_Clip\", None)"
   ]
  }
 ],
 "metadata": {
  "kernelspec": {
   "display_name": "ArcGISPro",
   "language": "Python",
   "name": "python3"
  },
  "language_info": {
   "file_extension": ".py",
   "name": "python",
   "version": "3"
  }
 },
 "nbformat": 4,
 "nbformat_minor": 2
}
